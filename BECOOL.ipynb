{
 "cells": [
  {
   "cell_type": "code",
   "execution_count": 1,
   "id": "e1b95b96",
   "metadata": {},
   "outputs": [
    {
     "name": "stdout",
     "output_type": "stream",
     "text": [
      "!dlroW olleH\n"
     ]
    }
   ],
   "source": [
    "a = \"Hello World!\"\n",
    "print(a[::-1])"
   ]
  },
  {
   "cell_type": "code",
   "execution_count": 2,
   "id": "8307ef48",
   "metadata": {},
   "outputs": [
    {
     "name": "stdout",
     "output_type": "stream",
     "text": [
      "First: (10, 5)\n",
      "Second: (5, 12)\n"
     ]
    }
   ],
   "source": [
    "a = 10\n",
    "b = 5\n",
    "print(f\"First: {a, b}\")\n",
    "a, b = b, a + 2\n",
    "print(f\"Second: {a, b}\")"
   ]
  },
  {
   "cell_type": "code",
   "execution_count": 3,
   "id": "42fed1a0",
   "metadata": {},
   "outputs": [
    {
     "name": "stdout",
     "output_type": "stream",
     "text": [
      "1\n",
      "2\n",
      "3\n"
     ]
    }
   ],
   "source": [
    "a, b, c = [1, 2, 3]\n",
    "print(a)\n",
    "print(b)\n",
    "print(c)"
   ]
  },
  {
   "cell_type": "code",
   "execution_count": 9,
   "id": "1142d82a",
   "metadata": {},
   "outputs": [
    {
     "name": "stdout",
     "output_type": "stream",
     "text": [
      "List size: 104 bytes\n",
      "Tuple size: 80 bytes\n"
     ]
    }
   ],
   "source": [
    "import sys\n",
    "\n",
    "a = [1, 2, 3, 4, 5]\n",
    "b = (1, 2, 3, 4, 5)\n",
    "\n",
    "print(f\"List size: {sys.getsizeof(a)} bytes\")\n",
    "print(f\"Tuple size: {sys.getsizeof(b)} bytes\")"
   ]
  },
  {
   "cell_type": "code",
   "execution_count": 10,
   "id": "5025479f",
   "metadata": {},
   "outputs": [
    {
     "name": "stdout",
     "output_type": "stream",
     "text": [
      "[1, 2, 8, 4, 5]\n"
     ]
    }
   ],
   "source": [
    "a = [1,2,3,4,5]\n",
    "a[2] = 8\n",
    "print(a)"
   ]
  },
  {
   "cell_type": "code",
   "execution_count": 11,
   "id": "337c5a07",
   "metadata": {},
   "outputs": [
    {
     "name": "stdout",
     "output_type": "stream",
     "text": [
      "[0, 2, 4, 6, 8, 10, 12, 14, 16, 18]\n",
      "<generator object <genexpr> at 0x0000015C06CAED50>\n"
     ]
    }
   ],
   "source": [
    "a = [x * 2 for x in range(10)]\n",
    "b = (x * 2 for x in range(10))\n",
    "\n",
    "print(a)\n",
    "print(b)"
   ]
  },
  {
   "cell_type": "code",
   "execution_count": 13,
   "id": "3130c56d",
   "metadata": {},
   "outputs": [
    {
     "name": "stdout",
     "output_type": "stream",
     "text": [
      "Hi, I'm NIKHIL and I'm 19 years old!\n"
     ]
    }
   ],
   "source": [
    "first_name = \"NIKHIL\"\n",
    "age = 19\n",
    "\n",
    "print(f\"Hi, I'm {first_name} and I'm {age} years old!\")"
   ]
  },
  {
   "cell_type": "code",
   "execution_count": 14,
   "id": "1206a08d",
   "metadata": {},
   "outputs": [
    {
     "name": "stdout",
     "output_type": "stream",
     "text": [
      "Hi, I'm NIKHIL and I'm 19 years old!\n"
     ]
    }
   ],
   "source": [
    "first_name = \"NIKHIL\"\n",
    "age  = 19\n",
    "\n",
    "print(\"Hi, I'm {} and I'm {} years old!\".format(first_name, age))\n"
   ]
  },
  {
   "cell_type": "code",
   "execution_count": 15,
   "id": "5e690f00",
   "metadata": {},
   "outputs": [
    {
     "name": "stdout",
     "output_type": "stream",
     "text": [
      "x = 10, y = 20\n"
     ]
    }
   ],
   "source": [
    "x = 10\n",
    "y = 20\n",
    "print(f\"{x = }, {y = }\")\n"
   ]
  },
  {
   "cell_type": "code",
   "execution_count": 16,
   "id": "5fb8b386",
   "metadata": {},
   "outputs": [
    {
     "name": "stdout",
     "output_type": "stream",
     "text": [
      "english french spanish german twi "
     ]
    }
   ],
   "source": [
    "a = [\"english\", \"french\", \"spanish\", \"german\", \"twi\"]\n",
    "for language in a:\n",
    "    print(language, end=\" \")"
   ]
  },
  {
   "cell_type": "code",
   "execution_count": 17,
   "id": "d4c84d7b",
   "metadata": {},
   "outputs": [
    {
     "name": "stdout",
     "output_type": "stream",
     "text": [
      "(1, 2, [1, 2, 3, 4])\n"
     ]
    }
   ],
   "source": [
    "a = (1, 2, [1, 2, 3])\n",
    "a[2].append(4)\n",
    "print(a)"
   ]
  },
  {
   "cell_type": "code",
   "execution_count": 18,
   "id": "4f05ea72",
   "metadata": {},
   "outputs": [
    {
     "name": "stdout",
     "output_type": "stream",
     "text": [
      "(1, 2, [1, 2, 3, 4])\n"
     ]
    }
   ],
   "source": [
    "a = (1, 2, [1, 2, 3])\n",
    "a[2].append(4)\n",
    "print(a)"
   ]
  },
  {
   "cell_type": "code",
   "execution_count": 19,
   "id": "e6daa1b7",
   "metadata": {},
   "outputs": [
    {
     "name": "stdout",
     "output_type": "stream",
     "text": [
      "NIKHIL\n"
     ]
    }
   ],
   "source": [
    "condition = True\n",
    "name = \"NIKHIL\" if condition else \"Doe\"\n",
    "\n",
    "print(name)"
   ]
  },
  {
   "cell_type": "code",
   "execution_count": 21,
   "id": "3bfe9291",
   "metadata": {},
   "outputs": [
    {
     "name": "stdout",
     "output_type": "stream",
     "text": [
      "NIKHIL\n"
     ]
    }
   ],
   "source": [
    "condition = True\n",
    "if condition:\n",
    "    name = \"NIKHIL\"\n",
    "else:\n",
    "    name = \"Doe\"\n",
    "\n",
    "print(name)"
   ]
  },
  {
   "cell_type": "code",
   "execution_count": 22,
   "id": "1c8dcdaf",
   "metadata": {},
   "outputs": [
    {
     "name": "stdout",
     "output_type": "stream",
     "text": [
      "[1, 2, 3, 4, 5, 6, 7]\n"
     ]
    }
   ],
   "source": [
    "a = [1, 1, 2, 3, 4, 5, 5, 5, 6, 7, 2, 2]\n",
    "print(list(set(a)))"
   ]
  },
  {
   "cell_type": "code",
   "execution_count": 28,
   "id": "64480918",
   "metadata": {},
   "outputs": [
    {
     "name": "stdout",
     "output_type": "stream",
     "text": [
      "SALAAR\n",
      "SALAAR\n",
      "SALAAR\n",
      "SALAAR\n",
      "SALAAR\n",
      "SALAAR\n",
      "SALAAR\n"
     ]
    }
   ],
   "source": [
    "for _ in range(7):\n",
    "    print(\"SALAAR\")\n"
   ]
  }
 ],
 "metadata": {
  "kernelspec": {
   "display_name": "Python 3 (ipykernel)",
   "language": "python",
   "name": "python3"
  },
  "language_info": {
   "codemirror_mode": {
    "name": "ipython",
    "version": 3
   },
   "file_extension": ".py",
   "mimetype": "text/x-python",
   "name": "python",
   "nbconvert_exporter": "python",
   "pygments_lexer": "ipython3",
   "version": "3.10.9"
  }
 },
 "nbformat": 4,
 "nbformat_minor": 5
}
