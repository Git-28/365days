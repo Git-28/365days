{
 "cells": [
  {
   "cell_type": "code",
   "execution_count": null,
   "id": "b250d13b",
   "metadata": {},
   "outputs": [],
   "source": [
    "    QUESTION :\n",
    "Sort Vowels:-\n",
    "Given a string consisting of only lowercase alphabets[a- z]. Sort the string such that all consecutive vowels are sorted without disturbing the positions of consonants. Here Vowles are: ['a', 'e', '1', 'o', 'u']. For example: In the string elaoozddefuolea\" => \"elaoo | zdd efl uoiea\" The highlighted sub-strings are vowels separated by consonants, after sorting the consecutive vowels it becomes \"aeioo | zddle faeiou\" => \"aeioozddefaeiou\"\n",
    "Input Format\n",
    "1.The first line consists of t (Number of test cases).\n",
    " 2.Next line consists of string consists of lowercase alphabets.\n",
    "Constraints\n",
    "1<t<< 50\n",
    "1 <= string length <= 100\n",
    "Output Format\n",
    ". For each test case, print the resultant string.\n",
    "sample input :\n",
    "2\n",
    "fuoieasdkuoo\n",
    "abcde\n",
    "sample output:\n",
    "faeiousdkoou\n",
    "abcde"
   ]
  },
  {
   "cell_type": "code",
   "execution_count": 4,
   "id": "48b7789c",
   "metadata": {},
   "outputs": [],
   "source": [
    "def sort_consecutive_vowels(input_string):\n",
    "    vowels = ['a', 'e', 'i', 'o', 'u']\n",
    "    result = []\n",
    "    current_vowels = []\n",
    "    \n",
    "    for char in input_string:\n",
    "        if char in vowels:\n",
    "            current_vowels.append(char)\n",
    "        else:\n",
    "            if current_vowels:\n",
    "                current_vowels.sort()\n",
    "                result.extend(current_vowels)\n",
    "                current_vowels = []\n",
    "            result.append(char)\n",
    "    \n",
    "    if current_vowels:\n",
    "        current_vowels.sort()\n",
    "        result.extend(current_vowels)\n",
    "    \n",
    "    return ''.join(result)\n",
    "def main():\n",
    "    t = int(input())\n",
    "    \n",
    "    for _ in range(t):\n",
    "        input_string = input()\n",
    "        result = sort_consecutive_vowels(input_string)\n",
    "        print(result)\n",
    "\n",
    "if __name__ == \"__main\":\n",
    "    main()\n"
   ]
  },
  {
   "cell_type": "code",
   "execution_count": 3,
   "id": "50a077e2",
   "metadata": {},
   "outputs": [
    {
     "name": "stdout",
     "output_type": "stream",
     "text": [
      "faeioosdkouu\n",
      "abcde\n"
     ]
    }
   ],
   "source": [
    "def sort_vowels(s: str) -> str:\n",
    "    vowels = ['a', 'e', '1', 'o', 'u']\n",
    "    vowel_list = []\n",
    "    for c in s:\n",
    "        if c in vowels:\n",
    "            vowel_list.append(c)\n",
    "    vowel_list.sort()\n",
    "    result = ''\n",
    "    i = 0\n",
    "    for c in s:\n",
    "        if c in vowels:\n",
    "            result += vowel_list[i]\n",
    "            i += 1\n",
    "        else:\n",
    "            result += c\n",
    "    return result\n",
    "\n",
    "# Example usage\n",
    "print(sort_vowels('fuoieasdkuoo'))\n",
    "print(sort_vowels('abcde'))\n"
   ]
  }
 ],
 "metadata": {
  "kernelspec": {
   "display_name": "Python 3 (ipykernel)",
   "language": "python",
   "name": "python3"
  },
  "language_info": {
   "codemirror_mode": {
    "name": "ipython",
    "version": 3
   },
   "file_extension": ".py",
   "mimetype": "text/x-python",
   "name": "python",
   "nbconvert_exporter": "python",
   "pygments_lexer": "ipython3",
   "version": "3.10.9"
  }
 },
 "nbformat": 4,
 "nbformat_minor": 5
}
