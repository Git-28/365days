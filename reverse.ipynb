{
 "cells": [
  {
   "cell_type": "code",
   "execution_count": null,
   "id": "ab5b4e1c",
   "metadata": {},
   "outputs": [],
   "source": [
    "// Iterative java program to reverse an \n",
    "// array \n",
    "public class GFG { \n",
    "\t\n",
    "/* Function to reverse arr[] from \n",
    "\tstart to end*/\n",
    "\tstatic void rvereseArray(int arr[], \n",
    "\t\t\t\t\tint start, int end) \n",
    "\t{ \n",
    "\t\tint temp; \n",
    "\t\t\n",
    "\t\twhile (start < end) \n",
    "\t\t{ \n",
    "\t\t\ttemp = arr[start]; \n",
    "\t\t\tarr[start] = arr[end]; \n",
    "\t\t\tarr[end] = temp; \n",
    "\t\t\tstart++; \n",
    "\t\t\tend--; \n",
    "\t\t} \n",
    "\t}\t \n",
    "\t\n",
    "\t/* Utility that prints out an \n",
    "\tarray on a line */\n",
    "\tstatic void printArray(int arr[], \n",
    "\t\t\t\t\t\t\tint size) \n",
    "\t{ \n",
    "\t\tfor (int i = 0; i < size; i++) \n",
    "\t\t\tSystem.out.print(arr[i] + \" \"); \n",
    "\t\t\n",
    "\t\tSystem.out.println(); \n",
    "\t} \n",
    "\n",
    "\t// Driver code \n",
    "\tpublic static void main(String args[]) { \n",
    "\t\t\n",
    "\t\tint arr[] = {1, 2, 3, 4, 5, 6}; \n",
    "\t\tprintArray(arr, 6); \n",
    "\t\trvereseArray(arr, 0, 5); \n",
    "\t\tSystem.out.print(\"Reversed array is \\n\"); \n",
    "\t\tprintArray(arr, 6); \n",
    "\t\t\n",
    "\t} \n",
    "} \n",
    "\n",
    "// This code is contributed by Sam007 \n"
   ]
  },
  {
   "cell_type": "code",
   "execution_count": 1,
   "id": "13512a73",
   "metadata": {},
   "outputs": [
    {
     "name": "stdout",
     "output_type": "stream",
     "text": [
      "[1, 2, 3, 4, 5, 6]\n",
      "Reversed list is\n",
      "[6, 5, 4, 3, 2, 1]\n"
     ]
    }
   ],
   "source": [
    "# Iterative python program to reverse an array \n",
    "\n",
    "# Function to reverse A[] from start to end \n",
    "def reverseList(A, start, end): \n",
    "\twhile start < end: \n",
    "\t\tA[start], A[end] = A[end], A[start] \n",
    "\t\tstart += 1\n",
    "\t\tend -= 1\n",
    "\n",
    "# Driver function to test above function \n",
    "A = [1, 2, 3, 4, 5, 6] \n",
    "print(A) \n",
    "reverseList(A, 0, 5) \n",
    "print(\"Reversed list is\") \n",
    "print(A) \n",
    "# This program is contributed by Pratik Chhajer \n"
   ]
  },
  {
   "cell_type": "code",
   "execution_count": null,
   "id": "c6937406",
   "metadata": {},
   "outputs": [],
   "source": [
    "// java program to reverse a word\n",
    "\n",
    "import java.io.*;\n",
    "import java.util.Scanner;\n",
    "\n",
    "class GFG {\n",
    "\tpublic static void main (String[] args) {\n",
    "\t\n",
    "\t\tString str= \"Geeks\", nstr=\"\";\n",
    "\t\tchar ch;\n",
    "\t\n",
    "\tSystem.out.print(\"Original word: \");\n",
    "\tSystem.out.println(\"Geeks\"); //Example word\n",
    "\t\n",
    "\tfor (int i=0; i<str.length(); i++)\n",
    "\t{\n",
    "\t\tch= str.charAt(i); //extracts each character\n",
    "\t\tnstr= ch+nstr; //adds each character in front of the existing string\n",
    "\t}\n",
    "\tSystem.out.println(\"Reversed word: \"+ nstr);\n",
    "\t}\n",
    "}\n",
    "\n",
    "//Contributed by Tiyasa\n"
   ]
  },
  {
   "cell_type": "code",
   "execution_count": 1,
   "id": "6caedd0e",
   "metadata": {},
   "outputs": [
    {
     "name": "stdout",
     "output_type": "stream",
     "text": [
      "enter string=nikhil\n",
      "lihkin\n"
     ]
    }
   ],
   "source": [
    "txt =str(input(\"enter string=\"))[::-1]\n",
    "print(txt)"
   ]
  }
 ],
 "metadata": {
  "kernelspec": {
   "display_name": "Python 3 (ipykernel)",
   "language": "python",
   "name": "python3"
  },
  "language_info": {
   "codemirror_mode": {
    "name": "ipython",
    "version": 3
   },
   "file_extension": ".py",
   "mimetype": "text/x-python",
   "name": "python",
   "nbconvert_exporter": "python",
   "pygments_lexer": "ipython3",
   "version": "3.10.9"
  }
 },
 "nbformat": 4,
 "nbformat_minor": 5
}
